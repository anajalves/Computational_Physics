{
 "cells": [
  {
   "cell_type": "code",
   "execution_count": 28,
   "metadata": {},
   "outputs": [],
   "source": [
    "import numpy as np"
   ]
  },
  {
   "cell_type": "markdown",
   "metadata": {},
   "source": [
    "(A)"
   ]
  },
  {
   "cell_type": "markdown",
   "metadata": {},
   "source": [
    "For point 1:\n",
    "\n",
    "\\begin{equation}\n",
    "\\frac{x_1e^{iwt} - x_+e^{iwt}}{R_1} + \\frac{x_1e^{iwt} - 0}{R_4} + C_1 \\frac{dV_1}{dt} - C_1\\frac{dV_2}{dt} = 0\n",
    "\\end{equation}\n",
    "\n",
    "\\begin{equation}\n",
    "\\frac{x_1e^{iwt} - x_+e^{iwt}}{R_1} + \\frac{x_1e^{iwt}}{R_4} + iwC_1x_1e^{iwt} - iwC_1x_2e^{iwt} = 0\n",
    "\\end{equation}\n",
    "\n",
    "\\begin{equation}\n",
    "x_1 (\\frac{1}{R_1} + \\frac{1}{R_4} + iwC_1) - iwC_1x_2 = \\frac{x_+}{R_1}\n",
    "\\end{equation}\n",
    "\n",
    "For point 2:\n",
    "\n",
    "\\begin{equation}\n",
    "\\frac{x_2e^{iwt} - x_+e^{iwt}}{R_2} + \\frac{x_2e^{iwt} - 0}{R_5} + C_1 \\frac{dV_2}{dt} - C_1\\frac{dV_1}{dt} + C_2 \\frac{dV_2}{dt} - C_2\\frac{dV_3}{dt}= 0\n",
    "\\end{equation}\n",
    "\n",
    "\\begin{equation}\n",
    "\\frac{x_2e^{iwt} - x_+e^{iwt}}{R_2} + \\frac{x_2e^{iwt}}{R_5} + iwC_1x_2e^{iwt} - iwC_1x_1e^{iwt} + iwC_2x_2e^{iwt} - iwC_2x_3e^{iwt}= 0\n",
    "\\end{equation}\n",
    "\n",
    "\\begin{equation}\n",
    "x_2 (\\frac{1}{R_2} + \\frac{1}{R_5} + iwC_1 + iwC_2) - iwC_1x_1 - iwC_2x_3 = \\frac{x_+}{R_2}\n",
    "\\end{equation}\n",
    "\n",
    "For point 3:\n",
    "\n",
    "\\begin{equation}\n",
    "\\frac{x_3e^{iwt} - x_+e^{iwt}}{R_3} + \\frac{x_3e^{iwt} - 0}{R_6} + C_2 \\frac{dV_3}{dt} - C_2\\frac{dV_3}{dt} = 0\n",
    "\\end{equation}\n",
    "\n",
    "\\begin{equation}\n",
    "\\frac{x_3e^{iwt} - x_+e^{iwt}}{R_3} + \\frac{x_3e^{iwt}}{R_6} + iwC_2x_3e^{iwt} - iwC_2x_2e^{iwt} = 0\n",
    "\\end{equation}\n",
    "\n",
    "\\begin{equation}\n",
    "x_3 (\\frac{1}{R_3} + \\frac{1}{R_6} + iwC_2) - iwC_2x_2 = \\frac{x_+}{R_3}\n",
    "\\end{equation}\n",
    "\n",
    "In matrix form:\n",
    "\n",
    "\\begin{gather}\n",
    "\\begin{pmatrix}\n",
    "\\frac{1}{R_1}+\\frac{1}{R_4}+iwC_1 & -iwC_1 & 0\\\\\n",
    "-iwC_1 & \\frac{1}{R_2}+\\frac{1}{R_5}+iwC_1+iwC_2 & -iwC_2 \\\\\n",
    "0 & iwC_2 & \\frac{1}{R_3}+\\frac{1}{R_6}+iwC_2\n",
    "\\end{pmatrix} \n",
    "\\begin{pmatrix}\n",
    "x_1\\\\\n",
    "x_2\\\\\n",
    "x_3\n",
    "\\end{pmatrix} = \n",
    "\\begin{pmatrix}\n",
    "\\frac{x_+}{R_1}\\\\\n",
    "\\frac{x_+}{R_2}\\\\\n",
    "\\frac{x_+}{R_3}\n",
    "\\end{pmatrix}\n",
    "\\end{gather}"
   ]
  },
  {
   "cell_type": "markdown",
   "metadata": {},
   "source": [
    "(B)"
   ]
  },
  {
   "cell_type": "code",
   "execution_count": 5,
   "metadata": {},
   "outputs": [],
   "source": [
    "#Constants:\n",
    "R1 , R3 , R5 , = 1e3 , 1e3 , 1e3\n",
    "R2 , R4 , R6 , = 2e3 , 2e3 , 2e3\n",
    "C1 , C2 = 1e-6 , 0.5e-6\n",
    "x_plus = 3\n",
    "w = 1e3"
   ]
  },
  {
   "cell_type": "code",
   "execution_count": 19,
   "metadata": {},
   "outputs": [],
   "source": [
    "#Matrix A and column-vector v:\n",
    "A = np.array ([[1/R1 + 1/R4 + 1j*w*C1 , -1j*w*C1 , 0],\n",
    "              [-1j*w*C1 , 1/R2 + 1/R5 + 1j*w*C1 + 1j*w*C2 , -1j*w*C2],\n",
    "              [0 , 1j*w*C2 , 1/R3 + 1/R6 + 1j*w*C2]],dtype = complex)\n",
    "\n",
    "v = np.array ([x_plus/R1 , x_plus/R2 , x_plus/R3],dtype = complex)"
   ]
  },
  {
   "cell_type": "code",
   "execution_count": 24,
   "metadata": {},
   "outputs": [],
   "source": [
    "def gauss_jordan (A , v):\n",
    "    \n",
    "    N = len (v)\n",
    "    AA = np.zeros ([N , N+1],dtype = complex)\n",
    "    AA[:N,:N] = A\n",
    "    AA[:,N] = v\n",
    "    \n",
    "    for row in range (N):\n",
    "        AA[row,:] /= AA[row,row]\n",
    "        \n",
    "        for i in range (row):\n",
    "            AA[i,:] -= AA[i,row]*AA[row,:]\n",
    "            \n",
    "        for i in range (row + 1,N):\n",
    "            AA[i,:] -= AA[i,row]*AA[row,:]\n",
    "    \n",
    "    return AA[:,N]"
   ]
  },
  {
   "cell_type": "code",
   "execution_count": 35,
   "metadata": {},
   "outputs": [
    {
     "name": "stdout",
     "output_type": "stream",
     "text": [
      " [1.80789159-0.1315265j  1.61060183+0.15663611j 1.68593065-1.09884416j] using my program. \n",
      "\n",
      " [1.80789159-0.1315265j  1.61060183+0.15663611j 1.68593065-1.09884416j] using numpy.\n"
     ]
    }
   ],
   "source": [
    "print ('' , gauss_jordan (A , v)  , 'using my program.' , '\\n\\n' , np.linalg.solve (A ,v) , 'using numpy.')"
   ]
  },
  {
   "cell_type": "code",
   "execution_count": null,
   "metadata": {},
   "outputs": [],
   "source": []
  }
 ],
 "metadata": {
  "kernelspec": {
   "display_name": "Python 3",
   "language": "python",
   "name": "python3"
  },
  "language_info": {
   "codemirror_mode": {
    "name": "ipython",
    "version": 3
   },
   "file_extension": ".py",
   "mimetype": "text/x-python",
   "name": "python",
   "nbconvert_exporter": "python",
   "pygments_lexer": "ipython3",
   "version": "3.6.8"
  }
 },
 "nbformat": 4,
 "nbformat_minor": 4
}
