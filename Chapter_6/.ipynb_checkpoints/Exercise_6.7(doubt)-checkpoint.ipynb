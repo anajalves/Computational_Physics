{
 "cells": [
  {
   "cell_type": "code",
   "execution_count": 1,
   "metadata": {},
   "outputs": [],
   "source": [
    "import numpy as np"
   ]
  },
  {
   "cell_type": "markdown",
   "metadata": {},
   "source": [
    "(A)"
   ]
  },
  {
   "cell_type": "markdown",
   "metadata": {},
   "source": [
    "\\begin{equation}\n",
    "\\frac{V_1-V_+}{R} + \\frac{V_1-V_2}{R} + \\frac{V_1-V_3}{R} = 0 \\iff 3V_1 - V_2 - V_3 = V_+\n",
    "\\end{equation}\n",
    "\n",
    "\\begin{equation}\n",
    "\\frac{V_2-V_+}{R} + \\frac{V_2-V_1}{R} + \\frac{V_2-V_3}{R} + \\frac{V_2-V_4}{R} = 0 \\iff 4V_2 - V_1 - V_3 - V_4 = V_+\n",
    "\\end{equation}\n",
    "\n",
    "\\begin{equation}\n",
    "\\frac{V_3-V_1}{R} + \\frac{V_3-V_2}{R} + \\frac{V_3-V_4}{R} + \\frac{V_3-V_5}{R} = 0 \\iff 4V_3 - V_1 - V_2 - V_4 - V_5 = 0\n",
    "\\end{equation}\n",
    "\n",
    "\\begin{equation}\n",
    "\\frac{V_i-V_{i-2}}{R} + \\frac{V_i-V_{i-1}}{R} + \\frac{V_i-V_{i+1}}{R} + \\frac{V_i-V_{i+2}}{R} = 0 \\iff 4V_i - V_{i-2} - V_{i-1} - V_{i+1} - V_{i+2} = 0\n",
    "\\end{equation}\n",
    "\n",
    "\\begin{equation}\n",
    "\\frac{V_{N-1}-V_{N-2}}{R} + \\frac{V_{N-1}-V_{N}}{R} + \\frac{V_{N-1}-V_{N-3}}{R} + \\frac{V_{N-1}-0}{R} = 0 \\iff 4V_{N-1} - V_{N-3} - V_{N-2} - V_{N} = 0\n",
    "\\end{equation}\n",
    "\n",
    "\\begin{equation}\n",
    "\\frac{V_{N}-V_{N-2}}{R} + \\frac{V_{N}-V_{N-1}}{R} + \\frac{V_{N}-0}{R} = 0 \\iff 3V_{N} - V_{N-2} - V_{N-1} = 0\n",
    "\\end{equation}\n",
    "\n",
    "In matrix form: (N=6)\n",
    "\n",
    "\\begin{gather}\n",
    "\\begin{pmatrix}\n",
    "3 & -1 & -1 & 0 & 0 & 0\\\\\n",
    "-1 & 4 & -1 & -1 & 0 & 0\\\\\n",
    "-1 & -1 & 4 & -1 & -1 & 0\\\\\n",
    "0 & -1 & -1 & 4 & -1 & -1\\\\\n",
    "0 & 0 & -1 & -1 & 4 & -1\\\\\n",
    "0 & 0 & 0 & -1 & -1 & 3\n",
    "\\end{pmatrix} \n",
    "\\begin{pmatrix}\n",
    "V_1\\\\\n",
    "V_2\\\\\n",
    "V_3\\\\\n",
    "V_4\\\\\n",
    "V_5\\\\\n",
    "V_6\n",
    "\\end{pmatrix} = \n",
    "\\begin{pmatrix}\n",
    "V_+\\\\\n",
    "V_+\\\\\n",
    "0\\\\\n",
    "0\\\\\n",
    "0\\\\\n",
    "0\n",
    "\\end{pmatrix}\n",
    "\\end{gather}"
   ]
  },
  {
   "cell_type": "markdown",
   "metadata": {},
   "source": [
    "(B)"
   ]
  },
  {
   "cell_type": "code",
   "execution_count": 2,
   "metadata": {},
   "outputs": [],
   "source": [
    "#Constants:\n",
    "v_plus = 5\n",
    "N = 6"
   ]
  },
  {
   "cell_type": "code",
   "execution_count": 3,
   "metadata": {
    "scrolled": true
   },
   "outputs": [
    {
     "name": "stdout",
     "output_type": "stream",
     "text": [
      " A = [[ 3. -1. -1.  0.  0.  0.]\n",
      " [-1.  4. -1. -1.  0.  0.]\n",
      " [-1. -1.  4. -1. -1.  0.]\n",
      " [ 0. -1. -1.  4. -1. -1.]\n",
      " [ 0.  0. -1. -1.  4. -1.]\n",
      " [ 0.  0.  0. -1. -1.  3.]] \n",
      "\n",
      " v = [5. 5. 0. 0. 0. 0.]\n"
     ]
    }
   ],
   "source": [
    "A = np.zeros ([N , N] , dtype = float)\n",
    "v = np.array ([v_plus , v_plus , 0 , 0 , 0 , 0] , dtype = float)\n",
    "\n",
    "for row in range (1 , N-1):\n",
    "    A[row,row] = 4\n",
    "for row in range (N-1):\n",
    "    A[row,row+1] = -1\n",
    "    A[row+1,row] = -1\n",
    "for row in range (N-2):\n",
    "    A[row,row+2] = -1\n",
    "    A[row+2,row] = -1\n",
    "    \n",
    "A[0,0] , A[N-1,N-1] = 3 , 3\n",
    "print (' A =' , A ,'\\n\\n', 'v =', v)"
   ]
  },
  {
   "cell_type": "code",
   "execution_count": 4,
   "metadata": {
    "scrolled": true
   },
   "outputs": [],
   "source": [
    "#Gaussian elimination:\n",
    "\n",
    "#For the first row:\n",
    "div = A[0,0]\n",
    "A[0,:3] /= div\n",
    "v[0] /= div\n",
    "\n",
    "mult = A[1,0]\n",
    "A[1,:4] -= mult*A[0,:4]\n",
    "v[1] -= mult*v[0]\n",
    "\n",
    "mult = A[2,0]\n",
    "A[2,:5] -= mult*A[0,:5]\n",
    "v[2] -= mult*v[0]\n",
    "\n",
    "#For the second row:\n",
    "div = A[1,1]\n",
    "A[1,:4] /= div\n",
    "v[1] /= div\n",
    "\n",
    "mult = A[2,1]\n",
    "A[2,1:5] -= mult*A[1,1:5]\n",
    "v[2] -= mult*v[1]\n",
    "\n",
    "mult = A[3,1]\n",
    "A[3,1:6] -= mult*A[1,1:6]\n",
    "v[3] -= mult*v[1]\n",
    "\n",
    "#For the third and fourth rows:\n",
    "for row in range (2,4):\n",
    "    div = A[row,row]\n",
    "    A[row,:row+3] /= div\n",
    "    v[row] /= div\n",
    "    \n",
    "    for i in range (row+1,row+3):\n",
    "        mult = A[i,row]\n",
    "        A[i,i-2:i+3] -= mult*A[row,i-2:i+3]\n",
    "        v[i] -= mult*v[row]\n",
    "        \n",
    "        \n",
    "#For the fifth row:\n",
    "div = A[4,4]\n",
    "A[4,:] /= div\n",
    "v[4] /= div\n",
    "\n",
    "mult = A[5,4]\n",
    "A[5,:] -= mult*A[4,:]\n",
    "v[5] -= mult*v[4]\n",
    "\n",
    "#For the sixth row:\n",
    "A[N-1,N-1] /= A[N-1,N-1]\n",
    "v[N-1] /= A[N-1,N-1]"
   ]
  },
  {
   "cell_type": "code",
   "execution_count": 5,
   "metadata": {},
   "outputs": [
    {
     "name": "stdout",
     "output_type": "stream",
     "text": [
      "[2.7012987  2.59563164 2.07383933 2.37683723 2.1700312  2.52994012]\n"
     ]
    }
   ],
   "source": [
    "x = np.empty (N , dtype = float)\n",
    "x[N-1] = v[N-1]\n",
    "x[N-2] = v[N-2] - A[N-2,N-1]*v[N-1]\n",
    "for row in range (N-2):\n",
    "    x[row] = v[row] - A[row,row+1]*v[row+1] - A[row,row+2]*v[row+2]\n",
    "    \n",
    "print (x)   "
   ]
  },
  {
   "cell_type": "code",
   "execution_count": null,
   "metadata": {},
   "outputs": [],
   "source": [
    "''' Eu resolvi as equações à mão e cheguei aos cálculos que apresento na célula acima. \n",
    "    A minha dúvida é se devia ter usado backsubstitution,\n",
    "    porque penso que resolvi bem o método de gauss para uma matriz com 5 diagonais, \n",
    "    mas o resultado dá diferente do obtido usando o linalg como se pode verificar abaixo.'''"
   ]
  },
  {
   "cell_type": "code",
   "execution_count": 7,
   "metadata": {},
   "outputs": [
    {
     "name": "stdout",
     "output_type": "stream",
     "text": [
      "[3.7254902  3.43137255 2.74509804 2.25490196 1.56862745 1.2745098 ]\n"
     ]
    }
   ],
   "source": [
    "A = np.zeros ([N , N] , dtype = float)\n",
    "v = np.array ([v_plus , v_plus , 0 , 0 , 0 , 0] , dtype = float)\n",
    "\n",
    "for row in range (1 , N-1):\n",
    "    A[row,row] = 4\n",
    "for row in range (N-1):\n",
    "    A[row,row+1] = -1\n",
    "    A[row+1,row] = -1\n",
    "for row in range (N-2):\n",
    "    A[row,row+2] = -1\n",
    "    A[row+2,row] = -1\n",
    "    \n",
    "A[0,0] , A[N-1,N-1] = 3 , 3\n",
    "\n",
    "print (np.linalg.solve (A,v))"
   ]
  },
  {
   "cell_type": "code",
   "execution_count": null,
   "metadata": {},
   "outputs": [],
   "source": []
  }
 ],
 "metadata": {
  "kernelspec": {
   "display_name": "Python 3",
   "language": "python",
   "name": "python3"
  },
  "language_info": {
   "codemirror_mode": {
    "name": "ipython",
    "version": 3
   },
   "file_extension": ".py",
   "mimetype": "text/x-python",
   "name": "python",
   "nbconvert_exporter": "python",
   "pygments_lexer": "ipython3",
   "version": "3.6.9"
  }
 },
 "nbformat": 4,
 "nbformat_minor": 4
}
