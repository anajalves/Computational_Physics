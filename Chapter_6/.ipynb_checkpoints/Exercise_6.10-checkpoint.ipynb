{
 "cells": [
  {
   "cell_type": "markdown",
   "metadata": {},
   "source": [
    "Relaxation Method:\n",
    "\n",
    "It's an itirative method used to solve non-linear equations. This means we choose an initial value to plug into the equation that then gives us another value. If we repeat the process indefinetely, evetually it shall converge to our solution. There's a trick to know if the method converges: if the absolute value of the derivative of the function $f(x)$ at the solution, such that: $x = f(x)$, is lower than one, it will converge. Otherwise, we must solve that same equation but in another form.\n",
    "The error at the most recent estimate of x is given by the following equation:\n",
    "\n",
    "\\begin{equation}\n",
    "\\epsilon = \\frac{x - x^{'}}{1 - \\frac{1}{f^{'}(x)}}\n",
    "\\end{equation}\n",
    "\n",
    "where $x^{'}$ is the most recent estimate and $x$ is the previous one."
   ]
  },
  {
   "cell_type": "code",
   "execution_count": 7,
   "metadata": {},
   "outputs": [],
   "source": [
    "import numpy as np\n",
    "import matplotlib.pyplot as plt"
   ]
  },
  {
   "cell_type": "markdown",
   "metadata": {},
   "source": [
    "(A)"
   ]
  },
  {
   "cell_type": "code",
   "execution_count": 3,
   "metadata": {},
   "outputs": [
    {
     "name": "stdout",
     "output_type": "stream",
     "text": [
      "0.7968126311118457\n"
     ]
    }
   ],
   "source": [
    "epsilon = 1e-6\n",
    "\n",
    "x = 1\n",
    "error = 1\n",
    "\n",
    "while error > epsilon:\n",
    "    x , x_line = 1-np.exp(-2*x) , x\n",
    "    error = abs( (x-x_line)/(1-1/(2*np.exp(-2*x))) )\n",
    "    \n",
    "print (x)"
   ]
  },
  {
   "cell_type": "markdown",
   "metadata": {},
   "source": [
    "(B)"
   ]
  },
  {
   "cell_type": "code",
   "execution_count": 12,
   "metadata": {},
   "outputs": [
    {
     "data": {
      "image/png": "[encoded data removed]",
      "text/plain": [
       "<Figure size 432x288 with 1 Axes>"
      ]
     },
     "metadata": {
      "needs_background": "light"
     },
     "output_type": "display_data"
    }
   ],
   "source": [
    "C = np.arange (0,3.01,0.01)\n",
    "X = np.empty_like (C)\n",
    "\n",
    "for i , c in enumerate (C):\n",
    "    epsilon = 1e-6\n",
    "\n",
    "    x = 1\n",
    "    error = 1\n",
    "\n",
    "    while error > epsilon:\n",
    "        x , x_line = 1-np.exp(-c*x) , x\n",
    "        X[i] = x\n",
    "        error = abs( (x-x_line)/(1-1/(2*np.exp(-2*x))) )\n",
    "\n",
    "plt.plot (C , X , 'k-')\n",
    "plt.xlabel ('c')\n",
    "plt.ylabel ('x(c)')\n",
    "plt.show ()\n",
    "    "
   ]
  }
 ],
 "metadata": {
  "kernelspec": {
   "display_name": "Python 3",
   "language": "python",
   "name": "python3"
  },
  "language_info": {
   "codemirror_mode": {
    "name": "ipython",
    "version": 3
   },
   "file_extension": ".py",
   "mimetype": "text/x-python",
   "name": "python",
   "nbconvert_exporter": "python",
   "pygments_lexer": "ipython3",
   "version": "3.6.9"
  }
 },
 "nbformat": 4,
 "nbformat_minor": 4
}
