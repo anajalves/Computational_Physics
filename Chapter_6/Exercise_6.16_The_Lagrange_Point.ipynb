{
 "cells": [
  {
   "cell_type": "code",
   "execution_count": 1,
   "metadata": {},
   "outputs": [],
   "source": [
    "import numpy as np\n",
    "import matplotlib.pyplot as plt"
   ]
  },
  {
   "cell_type": "markdown",
   "metadata": {},
   "source": [
    "(A)"
   ]
  },
  {
   "cell_type": "markdown",
   "metadata": {},
   "source": [
    "\\begin{equation}\n",
    "\\vec F = \\vec F_{Earth}  + \\vec F_{Moon}\n",
    "\\end{equation}\n",
    "\n",
    "Choosing the positive axis pointing in the direction of Earth:\n",
    "\\begin{equation}\n",
    "F = F_{Earth}  - F_{Moon} = \\frac{GMm_{satellite}}{d_{Earth}} - \\frac{Gmm_{satellite}}{d_{Moon}}\n",
    "\\end{equation}\n",
    "\n",
    "where $M$ is the mass of the Earth and $m$ is the mass of the Moon. The distances $d_{Earth}$ and $d_{Moon}$ are, respectively, the distance from the sattelite to Earth and the distance from the Moon to the sattelite.\n",
    "\n",
    "\\begin{equation}\n",
    "F = \\frac{GMm_{satellite}}{r^{2}} - \\frac{Gmm_{satellite}}{(R-r)^{2}}\n",
    "\\end{equation}\n",
    "\n",
    "Since the sattelite stays in orbit around that point, it will oscilatte with frequency $\\omega$ around that same point. So,\n",
    "\\begin{equation}\n",
    "F = m_{satellite}\\omega ^{2} r\n",
    "\\end{equation}\n",
    "\n",
    "And, finally, we get\n",
    "\\begin{equation}\n",
    "\\frac{GM}{r^{2}} - \\frac{Gm}{(R-r)^{2}} = \\omega ^{2} r\n",
    "\\end{equation}"
   ]
  },
  {
   "cell_type": "markdown",
   "metadata": {},
   "source": [
    "(B)"
   ]
  },
  {
   "cell_type": "code",
   "execution_count": 5,
   "metadata": {},
   "outputs": [],
   "source": [
    "#Constants:\n",
    "G = 6.674e-11 \n",
    "M = 5.974e24\n",
    "m = 7.348e22\n",
    "R = 3.844e8\n",
    "w = 2.662e-6"
   ]
  },
  {
   "cell_type": "code",
   "execution_count": 6,
   "metadata": {},
   "outputs": [
    {
     "data": {
      "image/png": "[encoded data removed]",
      "text/plain": [
       "<Figure size 432x288 with 1 Axes>"
      ]
     },
     "metadata": {
      "needs_background": "light"
     },
     "output_type": "display_data"
    }
   ],
   "source": [
    "def F(r):\n",
    "    return G*M/r/r - G*m / (R-r)**2 - w*w*r\n",
    "\n",
    "def F_prime(r):\n",
    "    return -2*G*M / r**3 - 2*G*m / (R-r)**3 - w*w\n",
    "\n",
    "r = np.linspace (100000000 , 500000000 , 100)\n",
    "plt.plot (r , F(r) , 'k-' , label = 'F(r)')\n",
    "plt.plot (r , 0*r , 'r-')\n",
    "plt.legend ()\n",
    "plt.show ()"
   ]
  },
  {
   "cell_type": "code",
   "execution_count": 17,
   "metadata": {},
   "outputs": [],
   "source": [
    "def secant (x1 , x2 , f , epsilon):\n",
    "    \n",
    "    ''' This program implements the Secant Method to find roots. It is an itirative method\n",
    "        which needs to start with two initial guesses x1 and x2 and calculates a new estimate using \n",
    "        the function f(x) such that f(x) = 0. \n",
    "        It repeatedly calculates a new estimate of x (the root) up to an error of epsilon. '''\n",
    "    \n",
    "    x3 = x2 - f(x2) * (x2 - x1) / (f(x2) - f(x1))\n",
    "    error = abs (x3-x2)\n",
    "    \n",
    "    while epsilon < error:\n",
    "        x1 = x2\n",
    "        x2 = x3\n",
    "        x3 = x2 - f(x2) * (x2 - x1) / (f(x2) - f(x1))\n",
    "        error = abs (x3-x2)\n",
    "    \n",
    "    return x3\n",
    "\n",
    "def newton (x0 , f , f_prime ,  epsilon):\n",
    "    \n",
    "    ''' This program implements the Newton Method to find roots. It is an itirative method\n",
    "        which needs to start with an initial guess x0 and calculates a new estimate using \n",
    "        the function f(x) such that f(x) = 0, and the first derivative of f, f_prime. \n",
    "        It repeatedly calculates a new estimate of x (the root) up to an error of epsilon. '''\n",
    "    \n",
    "    x = x0 - f(x0)/f_prime(x0)\n",
    "    error = abs(x - x0)\n",
    "    \n",
    "    while epsilon < error:\n",
    "        x0 = x\n",
    "        x = x0 - f(x0)/f_prime(x0)\n",
    "        error = abs(x - x0)\n",
    "    \n",
    "    return x"
   ]
  },
  {
   "cell_type": "code",
   "execution_count": 21,
   "metadata": {},
   "outputs": [
    {
     "data": {
      "text/plain": [
       "326045071.66535544"
      ]
     },
     "execution_count": 21,
     "metadata": {},
     "output_type": "execute_result"
    }
   ],
   "source": [
    "secant (200000000 , 350000000 , F , 1e-10)"
   ]
  },
  {
   "cell_type": "code",
   "execution_count": 20,
   "metadata": {},
   "outputs": [
    {
     "data": {
      "text/plain": [
       "326045071.66535544"
      ]
     },
     "execution_count": 20,
     "metadata": {},
     "output_type": "execute_result"
    }
   ],
   "source": [
    "newton (300000000 , F , F_prime , 1e-10)"
   ]
  }
 ],
 "metadata": {
  "kernelspec": {
   "display_name": "Python 3",
   "language": "python",
   "name": "python3"
  },
  "language_info": {
   "codemirror_mode": {
    "name": "ipython",
    "version": 3
   },
   "file_extension": ".py",
   "mimetype": "text/x-python",
   "name": "python",
   "nbconvert_exporter": "python",
   "pygments_lexer": "ipython3",
   "version": "3.6.9"
  }
 },
 "nbformat": 4,
 "nbformat_minor": 4
}
