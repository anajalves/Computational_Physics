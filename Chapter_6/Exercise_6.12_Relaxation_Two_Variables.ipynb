{
 "cells": [
  {
   "cell_type": "code",
   "execution_count": 46,
   "metadata": {},
   "outputs": [],
   "source": [
    "import numpy as np"
   ]
  },
  {
   "cell_type": "markdown",
   "metadata": {},
   "source": [
    "(A)"
   ]
  },
  {
   "cell_type": "markdown",
   "metadata": {},
   "source": [
    "We have this system of equations:\n",
    "\n",
    "\\begin{cases}\n",
    "x = x^{2}y + ay \\\\\n",
    "b = x^{2}y + ay\n",
    "\\end{cases}\n",
    "\n",
    "From these we can easily conclude that $x = b$. Substituting it we get:\n",
    "\n",
    "\\begin{equation}\n",
    "b = y (b^{2} + a) \\leftrightarrow\n",
    "y = \\frac{b}{b^{2}+a}\n",
    "\\end{equation}"
   ]
  },
  {
   "cell_type": "markdown",
   "metadata": {},
   "source": [
    "(B)"
   ]
  },
  {
   "cell_type": "markdown",
   "metadata": {},
   "source": [
    "\\begin{cases}\n",
    "x = x^{2}y + ay \\\\ \n",
    "b = x^{2}y + ay\n",
    "\\end{cases}\n",
    "\n",
    "\\begin{cases}\n",
    "x = y(a+x^{2}) \\\\\n",
    "y = \\frac{b}{x^{2}+ a}\n",
    "\\end{cases}"
   ]
  },
  {
   "cell_type": "code",
   "execution_count": 41,
   "metadata": {},
   "outputs": [],
   "source": [
    "def relaxation_2_variables (x0 , y0 , f , g ,epsilon):\n",
    "    \n",
    "    ''' This program solves a set of non-linear equations with two variables such that x = f(x,y)\n",
    "        and y = g(x,y). The method used is the relaxation method which is an itirative method. \n",
    "        We will start with initial values: x = x0 and y = y0. '''\n",
    "    \n",
    "    ''' In case the method does not converge, it will raise an Exception. '''\n",
    "    \n",
    "    x1 , y1 = x0 , y0\n",
    "    x2 , y2 = f(x1,y1) , g(x1,y1)\n",
    "    error_x , error_y = abs ((x1-x2) / x1) , abs((y1-y2) / y1)\n",
    "    \n",
    "    i = 0\n",
    "    while (epsilon<error_x or epsilon<error_y):\n",
    "        i += 1\n",
    "        if i > 50:\n",
    "            raise Exception('The method did not converge.')\n",
    "        else:\n",
    "            x1 , y1 = x2 , y2\n",
    "            x2 , y2 = f(x1,y1) , g(x1,y1)\n",
    "            error_x , error_y = error_x , error_y = abs ((x1-x2) / x1) , abs((y1-y2) / y1)\n",
    "        \n",
    "    return x1 , y1"
   ]
  },
  {
   "cell_type": "code",
   "execution_count": 42,
   "metadata": {},
   "outputs": [],
   "source": [
    "def f(x,y):\n",
    "    a = 1\n",
    "    return y*(a+x*x)\n",
    "\n",
    "def g(x,y):\n",
    "    a = 1\n",
    "    b = 2\n",
    "    return b/(x*x + a)    "
   ]
  },
  {
   "cell_type": "code",
   "execution_count": 43,
   "metadata": {},
   "outputs": [
    {
     "ename": "Exception",
     "evalue": "The method did not converge.",
     "output_type": "error",
     "traceback": [
      "\u001b[0;31m---------------------------------------------------------------------------\u001b[0m",
      "\u001b[0;31mException\u001b[0m                                 Traceback (most recent call last)",
      "\u001b[0;32m<ipython-input-43-33fd3118f5ae>\u001b[0m in \u001b[0;36m<module>\u001b[0;34m\u001b[0m\n\u001b[0;32m----> 1\u001b[0;31m \u001b[0mrelaxation_2_variables\u001b[0m \u001b[0;34m(\u001b[0m\u001b[0;36m1.5\u001b[0m \u001b[0;34m,\u001b[0m \u001b[0;36m0.2\u001b[0m \u001b[0;34m,\u001b[0m \u001b[0mf\u001b[0m \u001b[0;34m,\u001b[0m \u001b[0mg\u001b[0m \u001b[0;34m,\u001b[0m \u001b[0;36m1e-6\u001b[0m\u001b[0;34m)\u001b[0m\u001b[0;34m\u001b[0m\u001b[0;34m\u001b[0m\u001b[0m\n\u001b[0m",
      "\u001b[0;32m<ipython-input-41-930be153a990>\u001b[0m in \u001b[0;36mrelaxation_2_variables\u001b[0;34m(x0, y0, f, g, epsilon)\u001b[0m\n\u001b[1;32m     15\u001b[0m         \u001b[0mi\u001b[0m \u001b[0;34m+=\u001b[0m \u001b[0;36m1\u001b[0m\u001b[0;34m\u001b[0m\u001b[0;34m\u001b[0m\u001b[0m\n\u001b[1;32m     16\u001b[0m         \u001b[0;32mif\u001b[0m \u001b[0mi\u001b[0m \u001b[0;34m>\u001b[0m \u001b[0;36m50\u001b[0m\u001b[0;34m:\u001b[0m\u001b[0;34m\u001b[0m\u001b[0;34m\u001b[0m\u001b[0m\n\u001b[0;32m---> 17\u001b[0;31m             \u001b[0;32mraise\u001b[0m \u001b[0mException\u001b[0m\u001b[0;34m(\u001b[0m\u001b[0;34m'The method did not converge.'\u001b[0m\u001b[0;34m)\u001b[0m\u001b[0;34m\u001b[0m\u001b[0;34m\u001b[0m\u001b[0m\n\u001b[0m\u001b[1;32m     18\u001b[0m         \u001b[0;32melse\u001b[0m\u001b[0;34m:\u001b[0m\u001b[0;34m\u001b[0m\u001b[0;34m\u001b[0m\u001b[0m\n\u001b[1;32m     19\u001b[0m             \u001b[0mx1\u001b[0m \u001b[0;34m,\u001b[0m \u001b[0my1\u001b[0m \u001b[0;34m=\u001b[0m \u001b[0mx2\u001b[0m \u001b[0;34m,\u001b[0m \u001b[0my2\u001b[0m\u001b[0;34m\u001b[0m\u001b[0;34m\u001b[0m\u001b[0m\n",
      "\u001b[0;31mException\u001b[0m: The method did not converge."
     ]
    }
   ],
   "source": [
    "relaxation_2_variables (1.5 , 0.2 , f , g , 1e-6)"
   ]
  },
  {
   "cell_type": "markdown",
   "metadata": {},
   "source": [
    "(C)"
   ]
  },
  {
   "cell_type": "markdown",
   "metadata": {},
   "source": [
    "\\begin{cases}\n",
    "x = x^{2}y + ay \\\\ \n",
    "b = x^{2}y + ay\n",
    "\\end{cases}\n",
    "\n",
    "\\begin{cases}\n",
    "y = \\frac{x}{x^{2} + a} \\\\ \n",
    "x = \\sqrt{\\frac{b-ay}{y}}\n",
    "\\end{cases}\n"
   ]
  },
  {
   "cell_type": "code",
   "execution_count": 56,
   "metadata": {},
   "outputs": [],
   "source": [
    "def f2(x,y):\n",
    "    a = 1\n",
    "    b = 2\n",
    "    return np.sqrt((b-a*y)/y)\n",
    "\n",
    "def g2(x,y):\n",
    "    a = 1\n",
    "    b = 2\n",
    "    return x / (x*x + a)  "
   ]
  },
  {
   "cell_type": "code",
   "execution_count": 57,
   "metadata": {},
   "outputs": [
    {
     "name": "stdout",
     "output_type": "stream",
     "text": [
      "The solutions are x = 2.0000011381776868 and y = 0.40000005919842974 up to an error of 10-6.\n"
     ]
    }
   ],
   "source": [
    "x , y = relaxation_2_variables (1.5 , 0.2 , f2 , g2 , 1e-6)\n",
    "print ('The solutions are x =', x , 'and y =' , y , 'up to an error of 10-6.')"
   ]
  },
  {
   "cell_type": "markdown",
   "metadata": {},
   "source": [
    "The solution is in accordance with what was expected (x = 2 , y = 0.4)."
   ]
  }
 ],
 "metadata": {
  "kernelspec": {
   "display_name": "Python 3",
   "language": "python",
   "name": "python3"
  },
  "language_info": {
   "codemirror_mode": {
    "name": "ipython",
    "version": 3
   },
   "file_extension": ".py",
   "mimetype": "text/x-python",
   "name": "python",
   "nbconvert_exporter": "python",
   "pygments_lexer": "ipython3",
   "version": "3.6.9"
  }
 },
 "nbformat": 4,
 "nbformat_minor": 4
}
