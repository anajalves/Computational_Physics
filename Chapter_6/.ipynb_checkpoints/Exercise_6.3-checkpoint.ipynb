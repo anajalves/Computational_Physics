{
 "cells": [
  {
   "cell_type": "code",
   "execution_count": 2,
   "metadata": {},
   "outputs": [],
   "source": [
    "import numpy as np"
   ]
  },
  {
   "cell_type": "markdown",
   "metadata": {},
   "source": [
    "(A)"
   ]
  },
  {
   "cell_type": "code",
   "execution_count": 20,
   "metadata": {},
   "outputs": [
    {
     "name": "stdout",
     "output_type": "stream",
     "text": [
      " L = [[  2.    0.    0.    0. ]\n",
      " [  3.    2.5   0.    0. ]\n",
      " [  1.   -4.5 -13.6   0. ]\n",
      " [  2.   -3.  -11.4  -1. ]] \n",
      "\n",
      " U = [[ 1.   0.5  2.   0.5]\n",
      " [ 0.   1.  -2.8 -1. ]\n",
      " [-0.  -0.   1.  -0. ]\n",
      " [-0.  -0.  -0.   1. ]] \n",
      "\n",
      " A = [[ 2.  1.  4.  1.]\n",
      " [ 3.  4. -1. -1.]\n",
      " [ 1. -4.  1.  5.]\n",
      " [ 2. -2.  1.  3.]]\n"
     ]
    }
   ],
   "source": [
    "A = np.array ([[2,1,4,1],\n",
    "              [3,4,-1,-1],\n",
    "              [1,-4,1,5],\n",
    "              [2,-2,1,3]],dtype = float)\n",
    "N = len(A)\n",
    "\n",
    "#LU decomposition:\n",
    "L = np.zeros_like (A,dtype = float)\n",
    "U = np.zeros_like (A,dtype = float)\n",
    "\n",
    "#Gaussian elimination:\n",
    "for row in range (N):\n",
    "    \n",
    "    L[:,row] = A[:,row] #the matrix L will have almost the same columns as matrix A. We'll correct it later.\n",
    "    \n",
    "    div = A[row,row]\n",
    "    A[row,:] /= div\n",
    "    \n",
    "    for i in range (row + 1 , N):\n",
    "        mult = A[i,row]\n",
    "        A[i,:] -= mult*A[row,:]\n",
    "        \n",
    "U = A #Now that Gaussian Elimination is finished, A is an upper matrix.\n",
    "\n",
    "#Let's correct matrix L and make it a lower matrix:\n",
    "for row in range (N):\n",
    "    for col in range (row+1,N): #The upper elements have a column index always bigger than the row index.\n",
    "        L[row,col] = 0 #The upper elements are all zero.\n",
    "        \n",
    "print (' L =', L ,'\\n\\n','U =', U ,'\\n\\n','A =', np.dot (L,U))"
   ]
  },
  {
   "cell_type": "markdown",
   "metadata": {},
   "source": [
    "(B)"
   ]
  },
  {
   "cell_type": "code",
   "execution_count": 25,
   "metadata": {},
   "outputs": [
    {
     "name": "stdout",
     "output_type": "stream",
     "text": [
      " x = [-43.1  35.2   9.    7. ] using my program. \n",
      "\n",
      " x = [-43.1  35.2   9.    7. ] using numpy.\n"
     ]
    }
   ],
   "source": [
    "v = np.array ([-4,3,9,7],dtype = float)\n",
    "\n",
    "#Backsubstitutions:\n",
    "y = np.empty (N,dtype = float)\n",
    "x = np.empty (N,dtype = float)\n",
    "\n",
    "#First backsubstitution:\n",
    "for row in range (N-1,-1,-1):\n",
    "    y[row] = v[row]\n",
    "    for col in range (row+1 , N):\n",
    "        y[row] -= L[row,col]*y[col]\n",
    "\n",
    "#Second backsubstitution:\n",
    "for row in range (N-1,-1,-1):\n",
    "    x[row] = y[row]\n",
    "    for col in range (row+1 , N):\n",
    "        x[row] -= U[row,col]*x[col]\n",
    "        \n",
    "print (' x =', x , 'using my program.','\\n\\n','x =', np.linalg.solve(A,v),'using numpy.')"
   ]
  },
  {
   "cell_type": "markdown",
   "metadata": {},
   "source": [
    "(C) I am not feeling too aventurous."
   ]
  },
  {
   "cell_type": "code",
   "execution_count": null,
   "metadata": {},
   "outputs": [],
   "source": []
  }
 ],
 "metadata": {
  "kernelspec": {
   "display_name": "Python 3",
   "language": "python",
   "name": "python3"
  },
  "language_info": {
   "codemirror_mode": {
    "name": "ipython",
    "version": 3
   },
   "file_extension": ".py",
   "mimetype": "text/x-python",
   "name": "python",
   "nbconvert_exporter": "python",
   "pygments_lexer": "ipython3",
   "version": "3.6.8"
  }
 },
 "nbformat": 4,
 "nbformat_minor": 4
}
