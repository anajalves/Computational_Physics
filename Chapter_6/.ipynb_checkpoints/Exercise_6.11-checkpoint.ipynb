{
 "cells": [
  {
   "cell_type": "code",
   "execution_count": 1,
   "metadata": {},
   "outputs": [],
   "source": [
    "import numpy as np"
   ]
  },
  {
   "cell_type": "markdown",
   "metadata": {},
   "source": [
    "(B)"
   ]
  },
  {
   "cell_type": "code",
   "execution_count": 2,
   "metadata": {},
   "outputs": [
    {
     "name": "stdout",
     "output_type": "stream",
     "text": [
      " The solution is x = 0.7968126311118457 \n",
      " Number of iterations = 14\n"
     ]
    }
   ],
   "source": [
    "epsilon = 1e-6\n",
    "\n",
    "x = 1\n",
    "error = 1\n",
    "i = 0\n",
    "\n",
    "while error > epsilon:\n",
    "    i += 1\n",
    "    x , x_line = 1-np.exp(-2*x) , x\n",
    "    error = abs( (x-x_line)/(1-1/(2*np.exp(-2*x))) )\n",
    "    \n",
    "print (' The solution is x =' , x , '\\n' , 'Number of iterations =' , i)"
   ]
  },
  {
   "cell_type": "markdown",
   "metadata": {},
   "source": [
    "(C)"
   ]
  },
  {
   "cell_type": "code",
   "execution_count": 10,
   "metadata": {},
   "outputs": [],
   "source": [
    "def overrelaxation (x , f , f_prime , epsilon , omega):\n",
    "    \n",
    "    ''' This program uses the overrelaxation method with speed constant omega to evaluate \n",
    "        the equation x = f(x) where f_prime is its first derivative until the solution \n",
    "        has an absolute error of epsilon. '''\n",
    "    \n",
    "    x1 = x\n",
    "    x2 = (1 + omega) * f(x1) - omega * x1\n",
    "    error = abs ((x1 - x2) / (1 - 1/((1 + omega) * f_prime(x) - omega)))\n",
    "    \n",
    "    i = 0\n",
    "    while epsilon < error:\n",
    "        i += 1\n",
    "        x1 = x2\n",
    "        x2 = (1 + omega) * f(x1) - omega * x1\n",
    "        error = abs ((x1 - x2) / (1 - 1/((1 + omega) * f_prime(x1) - omega)))\n",
    "        \n",
    "        print (' The solution is x =' , x1 , '\\n' , 'Number of iterations =' , i)"
   ]
  },
  {
   "cell_type": "code",
   "execution_count": 15,
   "metadata": {},
   "outputs": [
    {
     "name": "stdout",
     "output_type": "stream",
     "text": [
      " The solution is x = 0.796997075145081 \n",
      " Number of iterations = 1\n",
      " The solution is x = 0.7968323724281932 \n",
      " Number of iterations = 2\n",
      " The solution is x = 0.7968143476015649 \n",
      " Number of iterations = 3\n"
     ]
    }
   ],
   "source": [
    "def f(x):\n",
    "    return 1 - np.exp(-2*x)\n",
    "\n",
    "def f_prime (x):\n",
    "    return 2*np.exp(-2*x)\n",
    "\n",
    "overrelaxation (1 , f , f_prime , 1e-6 , 0.5)"
   ]
  },
  {
   "cell_type": "code",
   "execution_count": null,
   "metadata": {},
   "outputs": [],
   "source": []
  }
 ],
 "metadata": {
  "kernelspec": {
   "display_name": "Python 3",
   "language": "python",
   "name": "python3"
  },
  "language_info": {
   "codemirror_mode": {
    "name": "ipython",
    "version": 3
   },
   "file_extension": ".py",
   "mimetype": "text/x-python",
   "name": "python",
   "nbconvert_exporter": "python",
   "pygments_lexer": "ipython3",
   "version": "3.6.9"
  }
 },
 "nbformat": 4,
 "nbformat_minor": 4
}
