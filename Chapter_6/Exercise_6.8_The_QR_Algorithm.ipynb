{
 "cells": [
  {
   "cell_type": "code",
   "execution_count": 9,
   "metadata": {},
   "outputs": [],
   "source": [
    "import numpy as np"
   ]
  },
  {
   "cell_type": "markdown",
   "metadata": {},
   "source": [
    "(A)"
   ]
  },
  {
   "cell_type": "markdown",
   "metadata": {},
   "source": [
    "To prove that $q_i \\cdot q_i = 1$, we can just look at the definition of $q_i$:\n",
    "\n",
    "\\begin{equation}\n",
    "q_i \\cdot q_i = \\frac{u_i}{|u_i|} \\cdot \\frac{u_i}{|u_i|} = \\frac{1}{|u_i|^{2}} (u_i\\cdot u_i) = \\frac{1}{|u_i|^{2}} |u_i|^{2} = 1\n",
    "\\end{equation}\n",
    "\n",
    "To prove that $q_i \\cdot q_j = 0$ for $i \\neq j$ we can begin to prove that $u_i \\cdot u_j = 0$.\n",
    "\n",
    "So, if\n",
    "\n",
    "\\begin{equation}\n",
    "0 = u_i \\cdot u_j = u_i \\cdot \\frac{u_j}{|u_j|} = u_i \\cdot q_j\n",
    "\\end{equation}\n",
    "\n",
    "And so,\n",
    "\n",
    "\\begin{equation}\n",
    "u_i \\cdot q_j = a_i \\cdot q_j - \\sum (q_j \\cdot a_i)q_j \\cdot q_j = a_i \\cdot q_j - \\sum (q_j \\cdot a_i) = 0\n",
    "\\end{equation}"
   ]
  },
  {
   "cell_type": "markdown",
   "metadata": {},
   "source": [
    "(B)"
   ]
  },
  {
   "cell_type": "code",
   "execution_count": 10,
   "metadata": {},
   "outputs": [],
   "source": [
    "def QR_decomp (A):\n",
    "    \n",
    "    N = len (A)\n",
    "    \n",
    "    Q = np.zeros ([N,N] , dtype=float) #This is an orthogonal matrix and\n",
    "    R = np.zeros ([N,N] , dtype=float) #this is an upper triagonal matrix satisfying A=QR.\n",
    "\n",
    "\n",
    "    for col in range (N):\n",
    "        u = np.copy (A[:,col])\n",
    "        for i in range (col):\n",
    "            u -= np.dot(Q[:,i] , A[:,col]) * Q[:,i]\n",
    "        Q[:,col] = u / np.linalg.norm(u)\n",
    "        \n",
    "    for row in range (N):\n",
    "        for col in range (row , N):\n",
    "            R[row,col] = np.dot (Q[:,row] , A[:,col])\n",
    "               \n",
    "    return Q , R"
   ]
  },
  {
   "cell_type": "code",
   "execution_count": 11,
   "metadata": {},
   "outputs": [
    {
     "name": "stdout",
     "output_type": "stream",
     "text": [
      " Q =  \n",
      " [[ 0.10153462  0.558463    0.80981107  0.1483773 ]\n",
      " [ 0.40613847 -0.10686638 -0.14147555  0.8964462 ]\n",
      " [ 0.81227693 -0.38092692  0.22995024 -0.37712564]\n",
      " [ 0.40613847  0.72910447 -0.5208777  -0.17928924]] \n",
      "\n",
      " R =  \n",
      " [[ 9.8488578   6.49821546 10.55960012 11.37187705]\n",
      " [ 0.          5.98106979  8.4234836  -0.484346  ]\n",
      " [ 0.          0.          2.74586406  3.27671222]\n",
      " [ 0.          0.          0.          3.11592335]] \n",
      "\n",
      " A =  \n",
      " [[1. 4. 8. 4.]\n",
      " [4. 2. 3. 7.]\n",
      " [8. 3. 6. 9.]\n",
      " [4. 7. 9. 2.]]\n"
     ]
    }
   ],
   "source": [
    "A = np.array ([[1,4,8,4],\n",
    "              [4,2,3,7],\n",
    "              [8,3,6,9],\n",
    "              [4,7,9,2]] , dtype=float)\n",
    "\n",
    "Q , R = QR_decomp (A)\n",
    "print (' Q = ', '\\n' , Q , '\\n\\n' , 'R = ', '\\n' , R ,'\\n\\n' , 'A = ', '\\n' , np.matmul(Q,R))"
   ]
  },
  {
   "cell_type": "markdown",
   "metadata": {},
   "source": [
    "(C)"
   ]
  },
  {
   "cell_type": "code",
   "execution_count": 14,
   "metadata": {},
   "outputs": [],
   "source": [
    "def accuracy_test (epsilon , M):\n",
    "    \n",
    "    ''' This program returns True if the off-diagonal elements of matrix M are lower than epsilon\n",
    "        and False if they are not. '''\n",
    "    \n",
    "    N = len(M)\n",
    "    \n",
    "    for row in range (N):\n",
    "        for col in range (N):\n",
    "            if row == col:\n",
    "                continue\n",
    "            else:\n",
    "                if abs(M[row,col]) >= epsilon:\n",
    "                    return False\n",
    "    return True"
   ]
  },
  {
   "cell_type": "code",
   "execution_count": 15,
   "metadata": {},
   "outputs": [],
   "source": [
    "def QR_algorithm (A , epsilon):\n",
    "    \n",
    "    N = len(A)\n",
    "    \n",
    "    #This matrix will hold the eigenvectors of A. It starts off as the identity matrix:\n",
    "    V = np.eye (N , dtype=float)\n",
    "    \n",
    "    while accuracy_test (epsilon , A) == False:\n",
    "        Q , R = QR_decomp (A)\n",
    "        A = np.matmul (R,Q)\n",
    "        V = np.matmul (V,Q)\n",
    "    \n",
    "    eigenvals = np.zeros (N , dtype=float)\n",
    "    for row in range (N):\n",
    "        eigenvals[row] = A[row,row]\n",
    "    \n",
    "    return eigenvals , V"
   ]
  },
  {
   "cell_type": "code",
   "execution_count": 17,
   "metadata": {},
   "outputs": [
    {
     "name": "stdout",
     "output_type": "stream",
     "text": [
      "[21. -8. -3.  1.] \n",
      "\n",
      " [[ 0.43151698 -0.38357064 -0.77459666 -0.25819889]\n",
      " [ 0.38357063  0.43151698 -0.2581989   0.77459667]\n",
      " [ 0.62330228  0.52740965  0.25819889 -0.51639778]\n",
      " [ 0.52740965 -0.62330227  0.51639779  0.25819889]]\n"
     ]
    }
   ],
   "source": [
    "A = np.array ([[1,4,8,4],\n",
    "              [4,2,3,7],\n",
    "              [8,3,6,9],\n",
    "              [4,7,9,2]] , dtype=float)\n",
    "\n",
    "eigenval , eigenvec = QR_algorithm (A , 1e-6)\n",
    "print (eigenval , '\\n\\n' , eigenvec)"
   ]
  },
  {
   "cell_type": "code",
   "execution_count": null,
   "metadata": {},
   "outputs": [],
   "source": []
  }
 ],
 "metadata": {
  "kernelspec": {
   "display_name": "Python 3",
   "language": "python",
   "name": "python3"
  },
  "language_info": {
   "codemirror_mode": {
    "name": "ipython",
    "version": 3
   },
   "file_extension": ".py",
   "mimetype": "text/x-python",
   "name": "python",
   "nbconvert_exporter": "python",
   "pygments_lexer": "ipython3",
   "version": "3.6.9"
  }
 },
 "nbformat": 4,
 "nbformat_minor": 4
}
