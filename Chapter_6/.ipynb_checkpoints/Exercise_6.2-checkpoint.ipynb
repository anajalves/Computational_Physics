{
 "cells": [
  {
   "cell_type": "code",
   "execution_count": 2,
   "metadata": {},
   "outputs": [],
   "source": [
    "import numpy as np"
   ]
  },
  {
   "cell_type": "code",
   "execution_count": 25,
   "metadata": {},
   "outputs": [
    {
     "data": {
      "text/plain": [
       "array([ 1.61904762, -0.42857143, -1.23809524,  1.38095238])"
      ]
     },
     "execution_count": 25,
     "metadata": {},
     "output_type": "execute_result"
    }
   ],
   "source": [
    "A = np.array ([[0,1,4,1],\n",
    "               [3,4,-1,-1],\n",
    "               [1,-4,1,5],\n",
    "               [2,-2,1,3]],dtype = float)\n",
    "v = np.array ([-4 , 3 , 9 , 7],dtype = float)\n",
    "N = len(v)\n",
    "\n",
    "#Gaussian elimination:\n",
    "for row in range (N):\n",
    "    \n",
    "    #Partial pivoting:\n",
    "    for i in range (row+1,N):\n",
    "        if abs(A[row,row]) < abs(A[i,row]):\n",
    "            A[[row,i],:] = A[[i,row],:] #this switches the rows\n",
    "            v[[row,i]] = v[[i,row]] #this switches the rows\n",
    "            \n",
    "    div = A[row,row]\n",
    "    A[row,:] /= div\n",
    "    v[row] /= div\n",
    "    \n",
    "    for i in range (row + 1 , N):\n",
    "        mult = A[i,row]\n",
    "        A[i , :] -= mult*A[row,:]\n",
    "        v[i] -= mult*v[row]\n",
    "        \n",
    "#Backsubstitution:\n",
    "x = np.empty (N , dtype = float)\n",
    "for row in range (N-1,-1,-1):\n",
    "    #print (row)\n",
    "    x[row] = v[row]\n",
    "    for col in range (row+1 , N):\n",
    "        x[row] -= A[row,col]*x[col]\n",
    "        \n",
    "x"
   ]
  },
  {
   "cell_type": "code",
   "execution_count": null,
   "metadata": {},
   "outputs": [],
   "source": []
  }
 ],
 "metadata": {
  "kernelspec": {
   "display_name": "Python 3",
   "language": "python",
   "name": "python3"
  },
  "language_info": {
   "codemirror_mode": {
    "name": "ipython",
    "version": 3
   },
   "file_extension": ".py",
   "mimetype": "text/x-python",
   "name": "python",
   "nbconvert_exporter": "python",
   "pygments_lexer": "ipython3",
   "version": "3.6.8"
  }
 },
 "nbformat": 4,
 "nbformat_minor": 4
}
