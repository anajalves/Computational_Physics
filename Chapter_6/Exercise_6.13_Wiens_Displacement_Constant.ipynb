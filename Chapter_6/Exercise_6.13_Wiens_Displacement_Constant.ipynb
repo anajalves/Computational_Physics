{
 "cells": [
  {
   "cell_type": "code",
   "execution_count": 1,
   "metadata": {},
   "outputs": [],
   "source": [
    "import numpy as np\n",
    "import matplotlib.pyplot as plt"
   ]
  },
  {
   "cell_type": "code",
   "execution_count": 2,
   "metadata": {},
   "outputs": [],
   "source": [
    "def bissection (x1 , x2 , f , epsilon):\n",
    "    \n",
    "    if np.sign(f(x1)) == np.sign(f(x2)):\n",
    "        raise Exception('f(x1) and f(x2) must have different signs. Choose a new pair of starting values.')\n",
    "    \n",
    "    x_prime = 0.5*(x1+x2)\n",
    "    \n",
    "    while abs(x1-x2) > epsilon:\n",
    "        if np.sign(f(x1)) == np.sign(f(x_prime)):\n",
    "            x1 = x_prime\n",
    "        else:\n",
    "            x2 = x_prime\n",
    "            \n",
    "        x_prime = 0.5*(x1+x2)\n",
    "    \n",
    "    return x_prime"
   ]
  },
  {
   "cell_type": "markdown",
   "metadata": {},
   "source": [
    "(A)"
   ]
  },
  {
   "cell_type": "markdown",
   "metadata": {},
   "source": [
    "\\begin{equation}\n",
    "\\frac{\\partial{I}}{\\partial{\\lambda}} = 0\n",
    "\\leftrightarrow\n",
    "2\\pi hc^{2}\\frac{\\partial{}}{\\partial{\\lambda}} \\left( \\frac{\\lambda^{-5}}{e^{\\frac{hc}{\\lambda k_BT}} - 1} \\right) = 0\n",
    "\\end{equation}\n",
    "\n",
    "\\begin{equation}\n",
    "2\\pi hc^{2} \\left[ \\frac{-5\\lambda^{-6}}{e^{\\frac{hc}{\\lambda k_BT}} - 1} + \\frac{hc}{k_BT \\lambda^{7}} \\frac {e^{\\frac{hc}{\\lambda k_BT}}}{e^{\\frac{hc}{\\lambda k_BT}} - 1} \\right] = 0\n",
    "\\leftrightarrow\n",
    "\\frac{2\\pi hc^{2}}{\\lambda^{6} \\left( e^{\\frac{hc}{\\lambda k_BT}} - 1\\right)} \\left[-5 + \\frac{hc}{k_BT \\lambda} \\frac {e^{\\frac{hc}{\\lambda k_BT}}}{e^{\\frac{hc}{\\lambda k_BT}} - 1} \\right] = 0\n",
    "\\end{equation}\n",
    "\n",
    "\\begin{equation}\n",
    "\\frac{2\\pi hc^{2}}{\\lambda^{6} \\left( e^{\\frac{hc}{\\lambda k_BT}} - 1\\right)} \\left[\\frac{-5e^{\\frac{hc}{\\lambda k_BT}} + 5 + \\frac{hc}{\\lambda k_BT}e^{\\frac{hc}{\\lambda k_BT}}}{e^{\\frac{hc}{\\lambda k_BT}} - 1} \\right]\n",
    "\\leftrightarrow\n",
    "\\frac{2\\pi hc^{2}}{\\lambda^{6}}\\frac{e^{\\frac{hc}{\\lambda k_BT}}}{\\left( e^{\\frac{hc}{\\lambda k_BT}} - 1\\right)^{2}} \\left[-5 + 5e^{\\frac{-hc}{\\lambda k_BT}} + \\frac{hc}{\\lambda k_BT} \\right] = 0\n",
    "\\end{equation}\n",
    "\n",
    "Since the terms on the right of the brackets can never be equal to zero, \n",
    "\n",
    "\\begin{equation}\n",
    "-5 + 5e^{\\frac{-hc}{\\lambda k_BT}} + \\frac{hc}{\\lambda k_BT} = 0\n",
    "\\end{equation}\n",
    "\n",
    "If we make $x = \\frac{hc}{\\lambda k_BT}$, then $\\lambda = \\frac{hc}{xk_BT} = \\frac{b}{T}$ with $b=\\frac{hc}{k_Bx}$ as the displacement constant. The equation above becomes \n",
    "\n",
    "\\begin{equation}\n",
    "5e^{-x} + x - 5 = 0\n",
    "\\end{equation}"
   ]
  },
  {
   "cell_type": "code",
   "execution_count": 5,
   "metadata": {},
   "outputs": [
    {
     "data": {
      "image/png": "[encoded data removed]",
      "text/plain": [
       "<Figure size 432x288 with 1 Axes>"
      ]
     },
     "metadata": {
      "needs_background": "light"
     },
     "output_type": "display_data"
    }
   ],
   "source": [
    "x = np.linspace (-1 , 10 , 100)\n",
    "plt.plot (x , 5*np.exp(-x) + x - 5 , 'k-')\n",
    "plt.show ()"
   ]
  },
  {
   "cell_type": "markdown",
   "metadata": {},
   "source": [
    "(B)"
   ]
  },
  {
   "cell_type": "markdown",
   "metadata": {},
   "source": [
    "By observation of the graph, we see that the minimum is situated around $x = 5$- Since $x = \\frac{1}{\\lambda}$ the minimum of $x$ corresponds to the maximum of $\\lambda$."
   ]
  },
  {
   "cell_type": "code",
   "execution_count": 30,
   "metadata": {},
   "outputs": [
    {
     "name": "stdout",
     "output_type": "stream",
     "text": [
      "The displacement constant is equal to 0.0029011111301005554\n"
     ]
    }
   ],
   "source": [
    "def f(x):\n",
    "    return 5*np.exp(-x) + x - 5\n",
    "\n",
    "x = bissection (4 , 6 , f , 1e-6)\n",
    "\n",
    "#Constants:\n",
    "h = 6.626e-34\n",
    "c = 3e8\n",
    "kB = 1.38e-23\n",
    "\n",
    "b = h*c/x/kB \n",
    "\n",
    "print ('The displacement constant is equal to' , b)"
   ]
  },
  {
   "cell_type": "markdown",
   "metadata": {},
   "source": [
    "(C)"
   ]
  },
  {
   "cell_type": "markdown",
   "metadata": {},
   "source": [
    "Now we know that the temperature can be obtained by\n",
    "\n",
    "\\begin{equation}\n",
    "T = \\frac{b}{\\lambda}\n",
    "\\end{equation}"
   ]
  },
  {
   "cell_type": "code",
   "execution_count": 32,
   "metadata": {},
   "outputs": [
    {
     "name": "stdout",
     "output_type": "stream",
     "text": [
      "The surface temperature of the sun is 5779.105836853696\n"
     ]
    }
   ],
   "source": [
    "Lambda = 502e-9\n",
    "print ('The surface temperature of the sun is' , b/Lambda)"
   ]
  }
 ],
 "metadata": {
  "kernelspec": {
   "display_name": "Python 3",
   "language": "python",
   "name": "python3"
  },
  "language_info": {
   "codemirror_mode": {
    "name": "ipython",
    "version": 3
   },
   "file_extension": ".py",
   "mimetype": "text/x-python",
   "name": "python",
   "nbconvert_exporter": "python",
   "pygments_lexer": "ipython3",
   "version": "3.6.9"
  }
 },
 "nbformat": 4,
 "nbformat_minor": 4
}
