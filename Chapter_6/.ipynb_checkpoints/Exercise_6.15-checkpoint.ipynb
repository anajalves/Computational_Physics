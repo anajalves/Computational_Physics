{
 "cells": [
  {
   "cell_type": "code",
   "execution_count": 1,
   "metadata": {},
   "outputs": [],
   "source": [
    "import numpy as np\n",
    "import matplotlib.pyplot as plt"
   ]
  },
  {
   "cell_type": "markdown",
   "metadata": {},
   "source": [
    "(A)"
   ]
  },
  {
   "cell_type": "code",
   "execution_count": 3,
   "metadata": {},
   "outputs": [
    {
     "data": {
      "image/png": "[encoded data removed]",
      "text/plain": [
       "<Figure size 432x288 with 1 Axes>"
      ]
     },
     "metadata": {
      "needs_background": "light"
     },
     "output_type": "display_data"
    }
   ],
   "source": [
    "def P(x):\n",
    "    return 924*x**6 - 2772*x**5 + 3150*x**4 - 1680*x**3 + 420*x**2 - 42*x + 1\n",
    "\n",
    "x = np.linspace (0 , 1 , 100)\n",
    "\n",
    "plt.plot (x , P(x) , 'k-')\n",
    "plt.plot (x , 0*x , 'r-')\n",
    "plt.show ()"
   ]
  },
  {
   "cell_type": "markdown",
   "metadata": {},
   "source": [
    "The zeros are around: $x = 0.0$ , $x = 0.2$ , $x = 0.4$ , $x = 0.6$ , $x = 0.8$ , $x = 1.0$."
   ]
  },
  {
   "cell_type": "markdown",
   "metadata": {},
   "source": [
    "(B)"
   ]
  },
  {
   "cell_type": "code",
   "execution_count": 10,
   "metadata": {},
   "outputs": [],
   "source": [
    "def newton (x0 , f , f_prime ,  epsilon):\n",
    "    \n",
    "    ''' This program implements the Newton Method to find roots. It is an itirative method\n",
    "        which needs to start with an initial guess x0 and calculates a new estimate using \n",
    "        the function f(x) such that f(x) = 0, and the first derivative of f, f_prime. \n",
    "        It repeatedly calculates a new estimate of x (the root) up to an error of epsilon. '''\n",
    "    \n",
    "    x = x0 - f(x0)/f_prime(x0)\n",
    "    error = abs(x - x0)\n",
    "    \n",
    "    while epsilon < error:\n",
    "        x0 = x\n",
    "        x = x0 - f(x0)/f_prime(x0)\n",
    "        error = (x - x0)\n",
    "    \n",
    "    return x0"
   ]
  },
  {
   "cell_type": "code",
   "execution_count": 11,
   "metadata": {},
   "outputs": [],
   "source": [
    "def P_prime (x):\n",
    "    return 6*924*x**5 - 5*2772*x**4 + 4*3150*x**3 - 3*1680*x**2 + 2*420*x - 42"
   ]
  },
  {
   "cell_type": "code",
   "execution_count": 17,
   "metadata": {},
   "outputs": [
    {
     "name": "stdout",
     "output_type": "stream",
     "text": [
      " The roots are: \n",
      " 0.033765242898423545 \n",
      " 0.16939530676686765 \n",
      " 0.3806904069583867 \n",
      " 0.619917734535667 \n",
      " 0.8358676804054783 \n",
      " 0.9761904761904762\n"
     ]
    }
   ],
   "source": [
    "x1 = newton (0. , P , P_prime , 1e-10)\n",
    "x2 = newton (0.2 , P , P_prime , 1e-10)\n",
    "x3 = newton (0.4 , P , P_prime , 1e-10)\n",
    "x4 = newton (0.6 , P , P_prime , 1e-10)\n",
    "x5 = newton (0.8 , P , P_prime , 1e-10)\n",
    "x6 = newton (1. , P , P_prime , 1e-10)\n",
    "print (' The roots are:' , '\\n' , x1 , '\\n' , x2 , '\\n' , x3 , '\\n' , x4 , '\\n' , x5 , '\\n' , x6)"
   ]
  },
  {
   "cell_type": "code",
   "execution_count": null,
   "metadata": {},
   "outputs": [],
   "source": []
  }
 ],
 "metadata": {
  "kernelspec": {
   "display_name": "Python 3",
   "language": "python",
   "name": "python3"
  },
  "language_info": {
   "codemirror_mode": {
    "name": "ipython",
    "version": 3
   },
   "file_extension": ".py",
   "mimetype": "text/x-python",
   "name": "python",
   "nbconvert_exporter": "python",
   "pygments_lexer": "ipython3",
   "version": "3.6.9"
  }
 },
 "nbformat": 4,
 "nbformat_minor": 4
}
