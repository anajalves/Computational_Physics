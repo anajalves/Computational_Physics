{
 "cells": [
  {
   "cell_type": "code",
   "execution_count": 1,
   "metadata": {},
   "outputs": [],
   "source": [
    "import numpy as np\n",
    "import matplotlib.pyplot as plt"
   ]
  },
  {
   "cell_type": "markdown",
   "metadata": {},
   "source": [
    "(A)"
   ]
  },
  {
   "cell_type": "code",
   "execution_count": 35,
   "metadata": {},
   "outputs": [
    {
     "name": "stderr",
     "output_type": "stream",
     "text": [
      "/home/omelete/.local/lib/python3.6/site-packages/ipykernel_launcher.py:9: RuntimeWarning: divide by zero encountered in true_divide\n",
      "  if __name__ == '__main__':\n",
      "/home/omelete/.local/lib/python3.6/site-packages/ipykernel_launcher.py:10: RuntimeWarning: divide by zero encountered in true_divide\n",
      "  # Remove the CWD from sys.path while we load stuff.\n"
     ]
    },
    {
     "data": {
      "image/png": "[encoded data removed]",
      "text/plain": [
       "<Figure size 432x288 with 1 Axes>"
      ]
     },
     "metadata": {
      "needs_background": "light"
     },
     "output_type": "display_data"
    },
    {
     "data": {
      "image/png": "[encoded data removed]",
      "text/plain": [
       "<Figure size 432x288 with 1 Axes>"
      ]
     },
     "metadata": {
      "needs_background": "light"
     },
     "output_type": "display_data"
    }
   ],
   "source": [
    "#Constants:\n",
    "hbar = 1.05457e-34 #J.s\n",
    "m = 9.1094e-31 #kg\n",
    "V = 20*(1.602e-19) #J\n",
    "w = 1e-9 #m\n",
    "\n",
    "E = np.linspace (0 , 20*(1.602e-19) , 100) #J\n",
    "y1 = np.tan(np.sqrt(w*w*m*E/2/hbar/hbar))\n",
    "y2 = np.sqrt((V-E)/E)\n",
    "y3 = np.sqrt(E/(V-E))\n",
    "\n",
    "plt.plot (E , y1 , 'r-')\n",
    "plt.plot (E , y2 , 'g-' , label ='even states')\n",
    "plt.legend ()\n",
    "plt.show()\n",
    "plt.plot (E , y1 , 'r-')\n",
    "plt.plot (E , y3 , 'b-' , label ='odd states')\n",
    "plt.legend ()\n",
    "plt.show ()"
   ]
  },
  {
   "cell_type": "markdown",
   "metadata": {},
   "source": [
    "The first six energy levels are: E1 = 0.25 (blue) , E2 = 0.4 (green) , E3 = 0.5 (both) , E4 = 1.2 (blue) , E5 = 1.3 (green) and E6 = 1.5 (both)."
   ]
  },
  {
   "cell_type": "markdown",
   "metadata": {},
   "source": [
    "(B)"
   ]
  },
  {
   "cell_type": "code",
   "execution_count": 15,
   "metadata": {},
   "outputs": [],
   "source": [
    "def bissection (x1 , x2 , f , epsilon):\n",
    "    \n",
    "    if np.sign(f(x1)) == np.sign(f(x2)):\n",
    "        raise Exception('f(x1) and f(x2) must have different signs. Choose a new pair of starting values.')\n",
    "    \n",
    "    x_prime = 0.5*(x1+x2)\n",
    "    \n",
    "    while abs(x1-x2) > epsilon:\n",
    "        if np.sign(f(x1)) == np.sign(f(x_prime)):\n",
    "            x1 = x_prime\n",
    "        else:\n",
    "            x2 = x_prime\n",
    "            \n",
    "        x_prime = 0.5*(x1+x2)\n",
    "    \n",
    "    return x_prime"
   ]
  },
  {
   "cell_type": "code",
   "execution_count": 28,
   "metadata": {},
   "outputs": [],
   "source": [
    "def f1 (x):\n",
    "    return np.tan(np.sqrt(w*w*m*x/2/hbar/hbar)) - np.sqrt((V-x)/x)\n",
    "\n",
    "def f2 (x):\n",
    "    return np.tan(np.sqrt(w*w*m*x/2/hbar/hbar)) - np.sqrt(x/(V-x))"
   ]
  },
  {
   "cell_type": "code",
   "execution_count": 51,
   "metadata": {},
   "outputs": [
    {
     "name": "stdout",
     "output_type": "stream",
     "text": [
      " E1 = 1.8115478210830216 eV \n",
      " E2 = 2.8513552395443194 eV \n",
      " E3 = 3.384746118133583 eV \n",
      " E4 = 7.326352313514358 eV \n",
      " E5 = 7.850446951076779 eV \n",
      " E6 = 9.402004818196005 eV\n"
     ]
    }
   ],
   "source": [
    "epsilon = (1e-3)*(1.602e-19)\n",
    "E1 = bissection (0.1e-18 , 0.4e-18 , f2 , epsilon)\n",
    "E2 = bissection (0.3e-18 , 0.5e-18 , f1 , epsilon)\n",
    "E3 = bissection (0.4e-18 , 0.6e-18 , f2 , epsilon)\n",
    "E4 = bissection (1.0e-18 , 1.4e-18 , f2 , epsilon)\n",
    "E5 = bissection (1.2e-18 , 1.5e-18 , f1 , epsilon)\n",
    "E6 = bissection (1.4e-18 , 1.6e-18 , f2 , epsilon)\n",
    "print (' E1 =' , E1/(1.602e-19) , 'eV', '\\n' , 'E2 =', E2/(1.602e-19) , 'eV', '\\n' , 'E3 =' , E3/(1.602e-19) , 'eV',\\\n",
    "       '\\n' , 'E4 =' , E4/(1.602e-19) , 'eV', '\\n' , 'E5 =' , E5/(1.602e-19) , 'eV', '\\n' , 'E6 =' , E6/(1.602e-19),'eV')"
   ]
  },
  {
   "cell_type": "code",
   "execution_count": null,
   "metadata": {},
   "outputs": [],
   "source": []
  }
 ],
 "metadata": {
  "kernelspec": {
   "display_name": "Python 3",
   "language": "python",
   "name": "python3"
  },
  "language_info": {
   "codemirror_mode": {
    "name": "ipython",
    "version": 3
   },
   "file_extension": ".py",
   "mimetype": "text/x-python",
   "name": "python",
   "nbconvert_exporter": "python",
   "pygments_lexer": "ipython3",
   "version": "3.6.9"
  }
 },
 "nbformat": 4,
 "nbformat_minor": 4
}
