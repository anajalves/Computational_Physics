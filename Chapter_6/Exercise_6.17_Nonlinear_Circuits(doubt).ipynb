{
 "cells": [
  {
   "cell_type": "code",
   "execution_count": 2,
   "metadata": {},
   "outputs": [],
   "source": [
    "import numpy as np\n",
    "import matplotlib.pyplot as plt"
   ]
  },
  {
   "cell_type": "markdown",
   "metadata": {},
   "source": [
    "(A)"
   ]
  },
  {
   "cell_type": "markdown",
   "metadata": {},
   "source": [
    "The corresponding equation to voltage $V_2$ is:\n",
    "\n",
    "\\begin{equation}\n",
    "\\frac{V_2 - V_+}{R_3} + \\frac{V_2}{R_4} + I_0 \\left(e^{(V_2 - V_1)/V_T} - 1 \\right) = 0\n",
    "\\end{equation}"
   ]
  },
  {
   "cell_type": "markdown",
   "metadata": {},
   "source": [
    "(B)"
   ]
  },
  {
   "cell_type": "code",
   "execution_count": 3,
   "metadata": {},
   "outputs": [],
   "source": [
    "#Constants:\n",
    "V_plus , Vt = 5 , 0.05 #V\n",
    "R1 , R2 , R3 , R4 = 1e3 , 4e3 , 3e3 , 2e3 #ohm\n",
    "I0 = 3e-9 #A"
   ]
  },
  {
   "cell_type": "code",
   "execution_count": 21,
   "metadata": {},
   "outputs": [],
   "source": [
    "def F1(V1, V2):\n",
    "    \n",
    "    ''' This is the function for the equation of voltage V1. '''\n",
    "    \n",
    "    return (V1 - V_plus)/R1 + V1/R2 + I0*(np.exp((V1-V2)/Vt) - 1)\n",
    "\n",
    "def F1_prime_1(V1 , V2):\n",
    "    \n",
    "    ''' This is the first derivative of the equation of voltage V1 in order of V1. '''\n",
    "    \n",
    "    return 1/R1 + 1/R2 + I0/Vt*(np.exp((V1-V2)/Vt) - 1)\n",
    "\n",
    "def F1_prime_2(V1 , V2):\n",
    "    \n",
    "    ''' This is the first derivative of the equation of voltage V1 in order of V2. '''\n",
    "    \n",
    "    return -I0/Vt*(np.exp((V1-V2)/Vt) - 1)\n",
    "\n",
    "def F2(V1 , V2):\n",
    "    \n",
    "    ''' This is the function for the equation of voltage V2. '''\n",
    "    \n",
    "    return (V2 - V_plus)/R3 + V2/R4 + I0*(np.exp(-(V1-V2)/Vt) - 1)\n",
    "\n",
    "def F2_prime_2(V1 , V2):\n",
    "    \n",
    "    ''' This is the first derivative of the equation of voltage V2 in order of V2. '''\n",
    "    \n",
    "    return 1/R3 + 1/R4 + I0/Vt*(np.exp(-(V1-V2)/Vt) - 1)\n",
    "\n",
    "def F2_prime_1(V1 , V2):\n",
    "    \n",
    "    ''' This is the first derivative of the equation of voltage V2 in order of V1. '''\n",
    "    \n",
    "    return -I0/Vt*(np.exp((V1-V2)/Vt) - 1)"
   ]
  },
  {
   "cell_type": "code",
   "execution_count": 22,
   "metadata": {},
   "outputs": [],
   "source": [
    "def newton_two_variables (V10 , V20 , f , f_prime_1 , f_prime_2 , g , g_prime_1 , g_prime_2 , epsilon):\n",
    "    \n",
    "    V1 = V10 + (V1 - V10)*f_prime_1(V10,V20) + (V2 - V20)*f_prime_2(V10,V20)\n",
    "    V2 = V20 + (V1 - V10)*g_prime_1(V10,V20) + (V2 - V20)*g_prime_2(V10,V20)\n",
    "    \n",
    "    error_1 , error_2 = abs (V1 - V10) , abs (V2 - V20)\n",
    "    \n",
    "    while epsilon<error_1 or epsilon<error_2:\n",
    "        \n",
    "        V10 , V20 = V1 , V2\n",
    "        V1 = V10 + (V1 - V10)*f_prime_1(V10,V20) + (V2 - V20)*f_prime_2(V10,V20)\n",
    "        V2 = V20 + (V1 - V10)*g_prime_1(V10,V20) + (V2 - V20)*g_prime_2(V10,V20)\n",
    "        \n",
    "        error_1 , error_2 = abs (V1 - V10) , abs (V2 - V20)\n",
    "        \n",
    "    return V10 , V20"
   ]
  },
  {
   "cell_type": "code",
   "execution_count": 23,
   "metadata": {},
   "outputs": [
    {
     "ename": "UnboundLocalError",
     "evalue": "local variable 'V1' referenced before assignment",
     "output_type": "error",
     "traceback": [
      "\u001b[0;31m---------------------------------------------------------------------------\u001b[0m",
      "\u001b[0;31mUnboundLocalError\u001b[0m                         Traceback (most recent call last)",
      "\u001b[0;32m<ipython-input-23-764dc6feaaa3>\u001b[0m in \u001b[0;36m<module>\u001b[0;34m\u001b[0m\n\u001b[0;32m----> 1\u001b[0;31m \u001b[0mV1\u001b[0m \u001b[0;34m,\u001b[0m \u001b[0mV2\u001b[0m \u001b[0;34m=\u001b[0m \u001b[0mnewton_two_variables\u001b[0m \u001b[0;34m(\u001b[0m\u001b[0;36m0.5\u001b[0m \u001b[0;34m,\u001b[0m \u001b[0;36m1.2\u001b[0m \u001b[0;34m,\u001b[0m \u001b[0mF1\u001b[0m \u001b[0;34m,\u001b[0m \u001b[0mF1_prime_1\u001b[0m \u001b[0;34m,\u001b[0m \u001b[0mF1_prime_2\u001b[0m \u001b[0;34m,\u001b[0m \u001b[0mF2\u001b[0m \u001b[0;34m,\u001b[0m \u001b[0mF2_prime_1\u001b[0m \u001b[0;34m,\u001b[0m \u001b[0mF2_prime_2\u001b[0m \u001b[0;34m,\u001b[0m \u001b[0;36m1e-6\u001b[0m\u001b[0;34m)\u001b[0m\u001b[0;34m\u001b[0m\u001b[0;34m\u001b[0m\u001b[0m\n\u001b[0m\u001b[1;32m      2\u001b[0m print (' V1 (in volts) =' , V1 , '\\n' , 'V2 (in volts) = ' , V2 ,'\\n' , \\\n\u001b[1;32m      3\u001b[0m        'The voltage across the forward biased diode is (in volts)' , V1-V2)\n",
      "\u001b[0;32m<ipython-input-22-945ab349d10a>\u001b[0m in \u001b[0;36mnewton_two_variables\u001b[0;34m(V10, V20, f, f_prime_1, f_prime_2, g, g_prime_1, g_prime_2, epsilon)\u001b[0m\n\u001b[1;32m      1\u001b[0m \u001b[0;32mdef\u001b[0m \u001b[0mnewton_two_variables\u001b[0m \u001b[0;34m(\u001b[0m\u001b[0mV10\u001b[0m \u001b[0;34m,\u001b[0m \u001b[0mV20\u001b[0m \u001b[0;34m,\u001b[0m \u001b[0mf\u001b[0m \u001b[0;34m,\u001b[0m \u001b[0mf_prime_1\u001b[0m \u001b[0;34m,\u001b[0m \u001b[0mf_prime_2\u001b[0m \u001b[0;34m,\u001b[0m \u001b[0mg\u001b[0m \u001b[0;34m,\u001b[0m \u001b[0mg_prime_1\u001b[0m \u001b[0;34m,\u001b[0m \u001b[0mg_prime_2\u001b[0m \u001b[0;34m,\u001b[0m \u001b[0mepsilon\u001b[0m\u001b[0;34m)\u001b[0m\u001b[0;34m:\u001b[0m\u001b[0;34m\u001b[0m\u001b[0;34m\u001b[0m\u001b[0m\n\u001b[1;32m      2\u001b[0m \u001b[0;34m\u001b[0m\u001b[0m\n\u001b[0;32m----> 3\u001b[0;31m     \u001b[0mV1\u001b[0m \u001b[0;34m=\u001b[0m \u001b[0mV10\u001b[0m \u001b[0;34m+\u001b[0m \u001b[0;34m(\u001b[0m\u001b[0mV1\u001b[0m \u001b[0;34m-\u001b[0m \u001b[0mV10\u001b[0m\u001b[0;34m)\u001b[0m\u001b[0;34m*\u001b[0m\u001b[0mf_prime_1\u001b[0m\u001b[0;34m(\u001b[0m\u001b[0mV10\u001b[0m\u001b[0;34m,\u001b[0m\u001b[0mV20\u001b[0m\u001b[0;34m)\u001b[0m \u001b[0;34m+\u001b[0m \u001b[0;34m(\u001b[0m\u001b[0mV2\u001b[0m \u001b[0;34m-\u001b[0m \u001b[0mV20\u001b[0m\u001b[0;34m)\u001b[0m\u001b[0;34m*\u001b[0m\u001b[0mf_prime_2\u001b[0m\u001b[0;34m(\u001b[0m\u001b[0mV10\u001b[0m\u001b[0;34m,\u001b[0m\u001b[0mV20\u001b[0m\u001b[0;34m)\u001b[0m\u001b[0;34m\u001b[0m\u001b[0;34m\u001b[0m\u001b[0m\n\u001b[0m\u001b[1;32m      4\u001b[0m     \u001b[0mV2\u001b[0m \u001b[0;34m=\u001b[0m \u001b[0mV20\u001b[0m \u001b[0;34m+\u001b[0m \u001b[0;34m(\u001b[0m\u001b[0mV1\u001b[0m \u001b[0;34m-\u001b[0m \u001b[0mV10\u001b[0m\u001b[0;34m)\u001b[0m\u001b[0;34m*\u001b[0m\u001b[0mg_prime_1\u001b[0m\u001b[0;34m(\u001b[0m\u001b[0mV10\u001b[0m\u001b[0;34m,\u001b[0m\u001b[0mV20\u001b[0m\u001b[0;34m)\u001b[0m \u001b[0;34m+\u001b[0m \u001b[0;34m(\u001b[0m\u001b[0mV2\u001b[0m \u001b[0;34m-\u001b[0m \u001b[0mV20\u001b[0m\u001b[0;34m)\u001b[0m\u001b[0;34m*\u001b[0m\u001b[0mg_prime_2\u001b[0m\u001b[0;34m(\u001b[0m\u001b[0mV10\u001b[0m\u001b[0;34m,\u001b[0m\u001b[0mV20\u001b[0m\u001b[0;34m)\u001b[0m\u001b[0;34m\u001b[0m\u001b[0;34m\u001b[0m\u001b[0m\n\u001b[1;32m      5\u001b[0m \u001b[0;34m\u001b[0m\u001b[0m\n",
      "\u001b[0;31mUnboundLocalError\u001b[0m: local variable 'V1' referenced before assignment"
     ]
    }
   ],
   "source": [
    "V1 , V2 = newton_two_variables (0.5 , 1.2 , F1 , F1_prime_1 , F1_prime_2 , F2 , F2_prime_1 , F2_prime_2 , 1e-6)\n",
    "print (' V1 (in volts) =' , V1 , '\\n' , 'V2 (in volts) = ' , V2 ,'\\n' , \\\n",
    "       'The voltage across the forward biased diode is (in volts)' , V1-V2)"
   ]
  },
  {
   "cell_type": "code",
   "execution_count": null,
   "metadata": {},
   "outputs": [],
   "source": []
  }
 ],
 "metadata": {
  "kernelspec": {
   "display_name": "Python 3",
   "language": "python",
   "name": "python3"
  },
  "language_info": {
   "codemirror_mode": {
    "name": "ipython",
    "version": 3
   },
   "file_extension": ".py",
   "mimetype": "text/x-python",
   "name": "python",
   "nbconvert_exporter": "python",
   "pygments_lexer": "ipython3",
   "version": "3.6.9"
  }
 },
 "nbformat": 4,
 "nbformat_minor": 4
}
