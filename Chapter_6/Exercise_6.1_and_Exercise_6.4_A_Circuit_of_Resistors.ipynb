{
 "cells": [
  {
   "cell_type": "code",
   "execution_count": 2,
   "metadata": {},
   "outputs": [],
   "source": [
    "import numpy as np"
   ]
  },
  {
   "cell_type": "markdown",
   "metadata": {},
   "source": [
    "6.1"
   ]
  },
  {
   "cell_type": "markdown",
   "metadata": {},
   "source": [
    "(A)"
   ]
  },
  {
   "cell_type": "markdown",
   "metadata": {},
   "source": [
    "The equations for the other three junctions are:\n",
    "\n",
    "\\begin{equation}\n",
    "\\frac{V_2-V_1}{R} + \\frac{V_2-V_4}{R} + \\frac{V_2-0}{R} = 0\n",
    "\\end{equation}\n",
    "\n",
    "\\begin{equation}\n",
    "\\frac{V_3-V_1}{R} + \\frac{V_3-V_4}{R} + \\frac{V_3-V_+}{R} = 0\n",
    "\\end{equation}\n",
    "\n",
    "\\begin{equation}\n",
    "\\frac{V_4-V_1}{R} + \\frac{V_4-V_2}{R} + \\frac{V_4-V_3}{R} + \\frac{V_4-0}{R} = 0\n",
    "\\end{equation}\n",
    "\n",
    "which gives the following system of equations in matrix format:\n",
    "\n",
    "\\begin{gather}\n",
    "\\begin{pmatrix}\n",
    "4 & -1 & -1 & -1\\\\\n",
    "-1 & 3 & 0 & -1\\\\\n",
    "-1 & 0 & 3 & -1\\\\\n",
    "-1 & -1 & -1 & 4\n",
    "\\end{pmatrix} \n",
    "\\begin{pmatrix}\n",
    "V_1\\\\\n",
    "V_2\\\\\n",
    "V_3\\\\\n",
    "V_4\n",
    "\\end{pmatrix} = \n",
    "\\begin{pmatrix}\n",
    "V_+\\\\\n",
    "0\\\\\n",
    "V_+\n",
    "\\\\0\n",
    "\\end{pmatrix}\n",
    "\\end{gather}"
   ]
  },
  {
   "cell_type": "markdown",
   "metadata": {},
   "source": [
    "(B)"
   ]
  },
  {
   "cell_type": "markdown",
   "metadata": {},
   "source": [
    "We want to solve an equation for $x$ like this one:\n",
    "\n",
    "\\begin{equation}\n",
    "Ax = v\n",
    "\\end{equation}\n",
    "\n",
    "where \n",
    "\n",
    "\\begin{equation}\n",
    "A = \n",
    "\\begin{pmatrix}\n",
    "4 & -1 & -1 & -1\\\\\n",
    "-1 & 3 & 0 & -1\\\\\n",
    "-1 & 0 & 3 & -1\\\\\n",
    "-1 & -1 & -1 & 4\n",
    "\\end{pmatrix} \n",
    "\\end{equation}\n",
    "\n",
    "\\begin{equation}\n",
    "v = \\begin{pmatrix}\n",
    "V_+\\\\\n",
    "0\\\\\n",
    "V_+\n",
    "\\\\0\n",
    "\\end{pmatrix}\n",
    "\\end{equation}"
   ]
  },
  {
   "cell_type": "code",
   "execution_count": 3,
   "metadata": {},
   "outputs": [
    {
     "data": {
      "text/plain": [
       "array([3.        , 1.66666667, 3.33333333, 2.        ])"
      ]
     },
     "execution_count": 3,
     "metadata": {},
     "output_type": "execute_result"
    }
   ],
   "source": [
    "A = np.array ([[4,-1,-1,-1],\n",
    "               [-1,3,0,-1],\n",
    "               [-1,0,3,-1],\n",
    "               [-1,-1,-1,4]],dtype = float)\n",
    "v = np.array ([5 , 0 , 5 , 0],dtype = float)\n",
    "N = len(v)\n",
    "\n",
    "#Gaussian elimination:\n",
    "for row in range (N):\n",
    "    div = A[row,row]\n",
    "    A[row,:] /= div\n",
    "    v[row] /= div\n",
    "    \n",
    "    for i in range (row + 1 , N):\n",
    "        mult = A[i,row]\n",
    "        A[i , :] -= mult*A[row,:]\n",
    "        v[i] -= mult*v[row]\n",
    "        \n",
    "#Backsubstitution:\n",
    "x = np.empty (N , dtype = float)\n",
    "for row in range (N-1,-1,-1):\n",
    "    #print (row)\n",
    "    x[row] = v[row]\n",
    "    for col in range (row+1 , N):\n",
    "        x[row] -= A[row,col]*x[col]\n",
    "        \n",
    "x"
   ]
  },
  {
   "cell_type": "markdown",
   "metadata": {},
   "source": [
    "6.4"
   ]
  },
  {
   "cell_type": "code",
   "execution_count": 4,
   "metadata": {},
   "outputs": [
    {
     "data": {
      "text/plain": [
       "array([3.        , 1.66666667, 3.33333333, 2.        ])"
      ]
     },
     "execution_count": 4,
     "metadata": {},
     "output_type": "execute_result"
    }
   ],
   "source": [
    "np.linalg.solve (A , v)"
   ]
  },
  {
   "cell_type": "markdown",
   "metadata": {},
   "source": [
    "Below there's a function for the gaussian elimination, for the backsubstitution, and for the method Gauss-Jordan."
   ]
  },
  {
   "cell_type": "code",
   "execution_count": 2,
   "metadata": {},
   "outputs": [],
   "source": [
    "def gauss (A , v):\n",
    "    \n",
    "    ''' If we're careful enough to notice, the operations done to matrix A are the exact same done \n",
    "        to vector v, so we can improve our code adding one last column to matrix A that corresponds\n",
    "        to vector v. '''\n",
    "    \n",
    "    N = len (v)\n",
    "    AA = np.zeros ([N , N+1],dtype = float)\n",
    "    AA[:N,:N] = A\n",
    "    AA[:,N] = v\n",
    "    \n",
    "    for row in range (N):\n",
    "        AA[row,:] /= AA[row,row]\n",
    "        \n",
    "        for i in range (row + 1,N):\n",
    "            AA[i,:] -= AA[i,row]*AA[row,:]\n",
    "    \n",
    "    return AA[:N,:N] , AA[:,N]"
   ]
  },
  {
   "cell_type": "code",
   "execution_count": 3,
   "metadata": {},
   "outputs": [],
   "source": [
    "def backsubstitution (A , v):\n",
    "    \n",
    "    N = len (v)\n",
    "    x = np.empty (N , dtype = float)\n",
    "    \n",
    "    for row in range (N-1,-1,-1):\n",
    "        x[row] = v[row]\n",
    "        for col in range (row+1 , N):\n",
    "            x[row] -= A[row,col]*x[col]\n",
    "            \n",
    "    return x"
   ]
  },
  {
   "cell_type": "code",
   "execution_count": null,
   "metadata": {},
   "outputs": [],
   "source": [
    "def gauss_jordan (A , v):\n",
    "    \n",
    "    ''' This method transforms matrix A into a diagonal matrix of ones. This way our solution is given by\n",
    "        the modified vector v and there is no need to do a backsubstitution. This means that besides dividing \n",
    "        and subtracting from the elements below the pivot row, we need to do the same to the elements above. '''\n",
    "    \n",
    "    N = len (v)\n",
    "    AA = np.zeros ([N , N+1],dtype = float)\n",
    "    AA[:N,:N] = A\n",
    "    AA[:,N] = v\n",
    "    \n",
    "    for row in range (N):\n",
    "        AA[row,:] /= AA[row,row]\n",
    "        \n",
    "        for i in range (row):\n",
    "            AA[i,:] -= AA[i,row]*AA[row,:]\n",
    "            \n",
    "        for i in range (row + 1,N):\n",
    "            AA[i,:] -= AA[i,row]*AA[row,:]\n",
    "    \n",
    "    return AA[:,N]"
   ]
  }
 ],
 "metadata": {
  "kernelspec": {
   "display_name": "Python 3",
   "language": "python",
   "name": "python3"
  },
  "language_info": {
   "codemirror_mode": {
    "name": "ipython",
    "version": 3
   },
   "file_extension": ".py",
   "mimetype": "text/x-python",
   "name": "python",
   "nbconvert_exporter": "python",
   "pygments_lexer": "ipython3",
   "version": "3.6.9"
  }
 },
 "nbformat": 4,
 "nbformat_minor": 4
}
